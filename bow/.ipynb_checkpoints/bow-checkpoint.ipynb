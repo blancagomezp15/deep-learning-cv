{
 "cells": [
  {
   "cell_type": "markdown",
   "metadata": {},
   "source": [
    "# Lab 1. Bag of Words (BoW)"
   ]
  },
  {
   "cell_type": "markdown",
   "metadata": {},
   "source": [
    "### Import libraries"
   ]
  },
  {
   "cell_type": "code",
   "execution_count": 1,
   "metadata": {},
   "outputs": [],
   "source": [
    "from typing import List\n",
    "\n",
    "from bow import BoW\n",
    "from dataset import Dataset\n",
    "from image_classifier import ImageClassifier"
   ]
  },
  {
   "cell_type": "markdown",
   "metadata": {},
   "source": [
    "### Load helper functions"
   ]
  },
  {
   "cell_type": "markdown",
   "metadata": {},
   "source": [
    "Una palabra aquí es un vector de 128 elementos.\n",
    "\n",
    "Son clusters de kas caracreristicas que quiero sacar. \n",
    "\n",
    "Para reducir dimensionalidad, una opcion sería hacer un PCA. En otro caso, podriamos agrupar\n",
    "\n",
    "Es mejor ampliar el numero de palabras (size) que el numero de iteraciones. Porque kmeans empieza en aleaotorio. Cada iteracion obtenemos una salida."
   ]
  },
  {
   "cell_type": "code",
   "execution_count": 2,
   "metadata": {},
   "outputs": [],
   "source": [
    "def build_vocabulary(dataset: List[str], vocabulary: str = 'vocabulary', feature_type: str = 'SIFT', size: int = 100, iterations: int = 20):\n",
    "    \"\"\"Build a vocabulary.\n",
    "\n",
    "    Args:\n",
    "        dataset: Paths to the training images.\n",
    "        vocabulary: Relative path to the file (without extension) where the vocabulary will be saved.\n",
    "        feature_type: Feature extractor { SIFT, KAZE }.\n",
    "        size: Number of words in the vocabulary. -- Cuántos clusters quiero sacar\n",
    "        iterations: Maximum number of K-means iterations. -- Num iteracionses que va a hacer el modelo\n",
    "\n",
    "    \"\"\"\n",
    "    bow = BoW()\n",
    "    bow.build_vocabulary(dataset, feature_type=feature_type, vocabulary_size=size, iterations=iterations)\n",
    "    bow.save_vocabulary(vocabulary)\n",
    "\n",
    "def train_classifier(dataset: List[str], vocabulary: str = 'vocabulary', classifier: str = 'classifier', iterations: int = 100, kernel: str = 'SVM_LINEAR'):\n",
    "    \"\"\"Train an SVM classifier.\n",
    "\n",
    "    Args:\n",
    "        dataset: Paths to the training images.\n",
    "        vocabulary: Relative path to the vocabulary file (without extension).\n",
    "        classifier: Relative path to the file (without extension) where the classifier will be saved.\n",
    "        iterations: Maximum number of SVM iterations.\n",
    "\n",
    "    \"\"\"\n",
    "    bow = BoW()\n",
    "    bow.load_vocabulary(vocabulary)\n",
    "    print(\"Kernel elegido: \", kernel)\n",
    "    image_classifier = ImageClassifier(bow)\n",
    "    image_classifier.train(dataset, iterations=iterations, kernel_type=kernel)\n",
    "    image_classifier.save(classifier)\n",
    "\n",
    "def predict(dataset: List[str], dataset_name: str = \"\", vocabulary: str = 'vocabulary', classifier: str = 'classifier'):\n",
    "    \"\"\"Perform inference on a dataset.\n",
    "\n",
    "    Args:\n",
    "        dataset: Paths to the images.\n",
    "        dataset_name: Dataset descriptive name.\n",
    "        vocabulary: Relative path to the vocabulary file (without extension).\n",
    "        classifier: Relative path to the classifier file (without extension).\n",
    "\n",
    "    \"\"\"\n",
    "    bow = BoW()\n",
    "    bow.load_vocabulary(vocabulary)\n",
    "\n",
    "    image_classifier = ImageClassifier(bow)\n",
    "    image_classifier.load(classifier)\n",
    "    image_classifier.predict(dataset, dataset_name=dataset_name)"
   ]
  },
  {
   "cell_type": "markdown",
   "metadata": {},
   "source": [
    "### Load datasets"
   ]
  },
  {
   "cell_type": "code",
   "execution_count": 3,
   "metadata": {},
   "outputs": [],
   "source": [
    "training_set = Dataset.load('../dataset/training', '*.jpg')\n",
    "validation_set = Dataset.load('../dataset/validation', '*.jpg')"
   ]
  },
  {
   "cell_type": "markdown",
   "metadata": {},
   "source": [
    "### Build vocabulary and train a SVM classifier"
   ]
  },
  {
   "cell_type": "code",
   "execution_count": 4,
   "metadata": {},
   "outputs": [
    {
     "name": "stdout",
     "output_type": "stream",
     "text": [
      "\n",
      "BUILDING DICTIONARY\n",
      "\n",
      "Computing SIFT descriptors...\n",
      "0image [00:00, ?image/s]\n",
      "\n",
      "Clustering descriptors into 100 words using K-means...\n"
     ]
    },
    {
     "ename": "error",
     "evalue": "OpenCV(4.7.0) /Users/runner/miniforge3/conda-bld/libopencv_1675730094022/work/modules/features2d/src/bagofwords.cpp:94: error: (-215:Assertion failed) !descriptors.empty() in function 'cluster'\n",
     "output_type": "error",
     "traceback": [
      "\u001b[0;31m---------------------------------------------------------------------------\u001b[0m",
      "\u001b[0;31merror\u001b[0m                                     Traceback (most recent call last)",
      "Cell \u001b[0;32mIn[4], line 1\u001b[0m\n\u001b[0;32m----> 1\u001b[0m \u001b[43mbuild_vocabulary\u001b[49m\u001b[43m(\u001b[49m\u001b[43mtraining_set\u001b[49m\u001b[43m)\u001b[49m \u001b[38;5;66;03m# extraccion características\u001b[39;00m\n\u001b[1;32m      2\u001b[0m train_classifier(training_set)\n",
      "Cell \u001b[0;32mIn[2], line 13\u001b[0m, in \u001b[0;36mbuild_vocabulary\u001b[0;34m(dataset, vocabulary, feature_type, size, iterations)\u001b[0m\n\u001b[1;32m      2\u001b[0m \u001b[38;5;124;03m\"\"\"Build a vocabulary.\u001b[39;00m\n\u001b[1;32m      3\u001b[0m \n\u001b[1;32m      4\u001b[0m \u001b[38;5;124;03mArgs:\u001b[39;00m\n\u001b[0;32m   (...)\u001b[0m\n\u001b[1;32m     10\u001b[0m \n\u001b[1;32m     11\u001b[0m \u001b[38;5;124;03m\"\"\"\u001b[39;00m\n\u001b[1;32m     12\u001b[0m bow \u001b[38;5;241m=\u001b[39m BoW()\n\u001b[0;32m---> 13\u001b[0m \u001b[43mbow\u001b[49m\u001b[38;5;241;43m.\u001b[39;49m\u001b[43mbuild_vocabulary\u001b[49m\u001b[43m(\u001b[49m\u001b[43mdataset\u001b[49m\u001b[43m,\u001b[49m\u001b[43m \u001b[49m\u001b[43mfeature_type\u001b[49m\u001b[38;5;241;43m=\u001b[39;49m\u001b[43mfeature_type\u001b[49m\u001b[43m,\u001b[49m\u001b[43m \u001b[49m\u001b[43mvocabulary_size\u001b[49m\u001b[38;5;241;43m=\u001b[39;49m\u001b[43msize\u001b[49m\u001b[43m,\u001b[49m\u001b[43m \u001b[49m\u001b[43miterations\u001b[49m\u001b[38;5;241;43m=\u001b[39;49m\u001b[43miterations\u001b[49m\u001b[43m)\u001b[49m\n\u001b[1;32m     14\u001b[0m bow\u001b[38;5;241m.\u001b[39msave_vocabulary(vocabulary)\n",
      "File \u001b[0;32m~/Documents/GitHub/deep-learning-cv/bow/bow.py:80\u001b[0m, in \u001b[0;36mBoW.build_vocabulary\u001b[0;34m(self, training_set, feature_type, vocabulary_size, iterations, epsilon)\u001b[0m\n\u001b[1;32m     77\u001b[0m time\u001b[38;5;241m.\u001b[39msleep(\u001b[38;5;241m0.1\u001b[39m)  \u001b[38;5;66;03m# Prevents a race condition between tqdm and print statements.\u001b[39;00m\n\u001b[1;32m     78\u001b[0m \u001b[38;5;28mprint\u001b[39m(\u001b[38;5;124m\"\u001b[39m\u001b[38;5;130;01m\\n\u001b[39;00m\u001b[38;5;124mClustering descriptors into\u001b[39m\u001b[38;5;124m\"\u001b[39m, vocabulary_size, \u001b[38;5;124m\"\u001b[39m\u001b[38;5;124mwords using K-means...\u001b[39m\u001b[38;5;124m\"\u001b[39m)\n\u001b[0;32m---> 80\u001b[0m \u001b[38;5;28mself\u001b[39m\u001b[38;5;241m.\u001b[39m_vocabulary \u001b[38;5;241m=\u001b[39m \u001b[43mwords\u001b[49m\u001b[38;5;241;43m.\u001b[39;49m\u001b[43mcluster\u001b[49m\u001b[43m(\u001b[49m\u001b[43m)\u001b[49m\n",
      "\u001b[0;31merror\u001b[0m: OpenCV(4.7.0) /Users/runner/miniforge3/conda-bld/libopencv_1675730094022/work/modules/features2d/src/bagofwords.cpp:94: error: (-215:Assertion failed) !descriptors.empty() in function 'cluster'\n"
     ]
    }
   ],
   "source": [
    "build_vocabulary(training_set) # extraccion características\n",
    "train_classifier(training_set) # entrena svm con las caracteristicas anteriores"
   ]
  },
  {
   "cell_type": "markdown",
   "metadata": {},
   "source": [
    "## Modificación 1: Cambio del algoritmo SIFT por KAZE\n",
    "Es un algoritmo de deteccion y descripcion de características de imagenes.\n",
    "KAZE es una extension de SURF"
   ]
  },
  {
   "cell_type": "code",
   "execution_count": 5,
   "metadata": {},
   "outputs": [
    {
     "name": "stdout",
     "output_type": "stream",
     "text": [
      "\n",
      "BUILDING DICTIONARY\n",
      "\n",
      "Computing KAZE descriptors...\n",
      "100%|██████████| 2985/2985 [09:13<00:00,  5.39image/s]\n",
      "\n",
      "Clustering descriptors into 100 words using K-means...\n"
     ]
    }
   ],
   "source": [
    "build_vocabulary(training_set, vocabulary=\"vocabulary_KAZE\", feature_type=\"KAZE\", size=100, iterations=50) # extraccion características"
   ]
  },
  {
   "cell_type": "code",
   "execution_count": 4,
   "metadata": {},
   "outputs": [
    {
     "name": "stdout",
     "output_type": "stream",
     "text": [
      "Kernel elegido:  SVM_RBF\n",
      "\n",
      "\n",
      "TRAINING CLASSIFIER\n",
      "\n",
      "Extracting features...\n",
      "100%|██████████| 2985/2985 [16:19<00:00,  3.05image/s]\n",
      "\n",
      "Training SVM...\n"
     ]
    }
   ],
   "source": [
    "train_classifier(training_set, vocabulary=\"vocabulary_KAZE\", classifier=\"classifier_KAZE\", kernel= \"SVM_RBF\") # entrena svm con las caracteristicas anteriores"
   ]
  },
  {
   "cell_type": "code",
   "execution_count": 6,
   "metadata": {},
   "outputs": [
    {
     "name": "stdout",
     "output_type": "stream",
     "text": [
      "\n",
      "\n",
      "CLASSIFICATION RESULTS (TRAINING)\n",
      "\n",
      "Confusion matrix\n",
      "\n",
      "KNOWN/PREDICTED  Bedroom  Coast  Forest  Highway  Industrial  Inside city  Kitchen  Living room  Mountain  Office  Open country  Store  Street  Suburb  Tall building\n",
      "Bedroom             38.0    1.0     2.0      0.0        11.0          8.0      1.0         23.0       4.0     4.0           2.0    2.0     2.0     1.0           17.0\n",
      "Coast                2.0  168.0    11.0      8.0         5.0          2.0      0.0          4.0      15.0     3.0          35.0    0.0     0.0     0.0            7.0\n",
      "Forest               1.0    0.0   178.0      0.0         3.0          1.0      0.0          1.0      17.0     0.0           8.0   11.0     6.0     0.0            2.0\n",
      "Highway              0.0   21.0     0.0     89.0         8.0          3.0      0.0          2.0       8.0     0.0          12.0    0.0     7.0     3.0            7.0\n",
      "Industrial           3.0    4.0     7.0      7.0        80.0         10.0      0.0          9.0      16.0     1.0          12.0   27.0    11.0     5.0           19.0\n",
      "Inside city          6.0    5.0    11.0      3.0         7.0        111.0      0.0         13.0       4.0     2.0           5.0   18.0     6.0     3.0           14.0\n",
      "Kitchen              7.0    2.0     0.0      3.0        12.0         21.0      4.0         28.0       0.0     9.0           0.0    4.0     3.0     3.0           14.0\n",
      "Living room          9.0    1.0     2.0      0.0        11.0         12.0      0.0        125.0       4.0     3.0           0.0   10.0     0.0     3.0            9.0\n",
      "Mountain             0.0   14.0    28.0      3.0        14.0          3.0      0.0          2.0     150.0     0.0          38.0    6.0    10.0     0.0            6.0\n",
      "Office               8.0    2.0     0.0      0.0         8.0         17.0      2.0         26.0       5.0    25.0           3.0    4.0     1.0     1.0           13.0\n",
      "Open country         1.0   42.0    23.0     14.0        10.0          2.0      0.0          0.0      30.0     1.0         158.0    9.0     8.0     5.0            7.0\n",
      "Store                0.0    4.0    32.0      0.0         8.0         13.0      0.0         13.0       1.0     1.0           2.0  130.0     2.0     1.0            8.0\n",
      "Street               0.0    1.0    10.0      1.0        14.0          5.0      0.0          6.0      12.0     0.0           9.0   16.0   105.0     2.0           11.0\n",
      "Suburb               0.0    2.0     1.0      0.0        18.0          4.0      1.0         17.0       7.0     0.0           5.0    4.0     5.0    66.0           11.0\n",
      "Tall building        4.0   25.0    16.0      1.0        17.0         10.0      1.0         12.0       7.0     1.0          11.0   14.0     4.0     3.0          130.0\n",
      "\n",
      "Accuracy:  0.521608040201005\n"
     ]
    }
   ],
   "source": [
    "predict(training_set, \"Training\", vocabulary=\"vocabulary_KAZE\", classifier=\"classifier_KAZE\")"
   ]
  },
  {
   "cell_type": "code",
   "execution_count": 7,
   "metadata": {},
   "outputs": [
    {
     "name": "stdout",
     "output_type": "stream",
     "text": [
      "\n",
      "\n",
      "CLASSIFICATION RESULTS (VALIDATION)\n",
      "\n",
      "Confusion matrix\n",
      "\n",
      "KNOWN/PREDICTED  Bedroom  Coast  Forest  Highway  Industrial  Inside city  Kitchen  Living room  Mountain  Office  Open country  Store  Street  Suburb  Tall building\n",
      "Bedroom             24.0    1.0     5.0      1.0         4.0          5.0      2.0         33.0       6.0     2.0           0.0    4.0     4.0     3.0            6.0\n",
      "Coast                0.0   61.0     3.0      3.0         1.0          1.0      0.0          2.0       8.0     0.0          16.0    0.0     0.0     0.0            3.0\n",
      "Forest               0.0    1.0    70.0      0.0         0.0          0.0      0.0          1.0       7.0     0.0           8.0   10.0     1.0     1.0            1.0\n",
      "Highway              0.0   22.0     0.0     45.0         5.0          5.0      0.0          1.0       7.0     1.0           9.0    0.0     2.0     1.0            2.0\n",
      "Industrial           3.0    3.0     1.0      5.0        31.0          8.0      0.0          5.0       8.0     0.0           4.0   13.0     9.0     2.0            8.0\n",
      "Inside city          5.0    6.0     5.0      0.0         3.0         44.0      2.0          6.0       1.0     0.0           3.0   11.0     2.0     2.0           10.0\n",
      "Kitchen              5.0    0.0     3.0      0.0         7.0         12.0      1.0         47.0       1.0     8.0           1.0    2.0     2.0     2.0            9.0\n",
      "Living room          7.0    0.0     2.0      0.0         7.0          4.0      0.0         55.0       4.0     1.0           0.0    3.0     1.0     4.0           12.0\n",
      "Mountain             0.0   10.0     8.0      1.0         3.0          1.0      0.0          0.0      51.0     0.0          17.0    4.0     2.0     1.0            2.0\n",
      "Office               7.0    1.0     0.0      1.0         7.0         22.0      0.0         21.0       4.0    18.0           0.0    2.0     2.0     3.0           12.0\n",
      "Open country         0.0   15.0     8.0      5.0         6.0          2.0      0.0          4.0      12.0     0.0          39.0    1.0     3.0     1.0            4.0\n",
      "Store                1.0    1.0    14.0      0.0         7.0         12.0      1.0          5.0       1.0     0.0           0.0   54.0     0.0     0.0            4.0\n",
      "Street               0.0    3.0     4.0      0.0        12.0          8.0      0.0          2.0      11.0     0.0           3.0    3.0    46.0     1.0            7.0\n",
      "Suburb               0.0    1.0     3.0      0.0        10.0          5.0      0.0          7.0      10.0     0.0          11.0    3.0     7.0    31.0           12.0\n",
      "Tall building        4.0    9.0     0.0      2.0         8.0          7.0      0.0         10.0       5.0     1.0           6.0    6.0     0.0     1.0           41.0\n",
      "\n",
      "Accuracy:  0.40787716955941256\n"
     ]
    }
   ],
   "source": [
    "predict(validation_set, \"Validation\", vocabulary=\"vocabulary_KAZE\", classifier=\"classifier_KAZE\")"
   ]
  },
  {
   "cell_type": "code",
   "execution_count": null,
   "metadata": {},
   "outputs": [],
   "source": [
    "import pickle\n",
    "voc = pickle.load(open(\"vocabulary_KAZE.pickle\", \"rb\"))"
   ]
  },
  {
   "cell_type": "markdown",
   "metadata": {},
   "source": [
    "### Perform inference on the training set\n",
    "\n",
    "Matriz de confision, dónde se está confundiendo en el conjunto de entrenamiento. Por ejemplo en campo abierto y playa\n",
    "\n",
    "Esta técnica va a sobreentrenar mucho, porque tiene limitaciones."
   ]
  },
  {
   "cell_type": "code",
   "execution_count": 6,
   "metadata": {},
   "outputs": [
    {
     "name": "stdout",
     "output_type": "stream",
     "text": [
      "\n",
      "\n",
      "CLASSIFICATION RESULTS (TRAINING)\n",
      "\n",
      "Confusion matrix\n",
      "\n",
      "KNOWN/PREDICTED  Bedroom  Coast  Forest  Highway  Industrial  Inside city  Kitchen  Living room  Mountain  Office  Open country  Store  Street  Suburb  Tall building\n",
      "Bedroom             25.0    1.0     1.0      0.0        17.0          5.0      1.0         31.0       2.0     3.0           9.0   10.0     3.0     2.0            6.0\n",
      "Coast                2.0  181.0     8.0      8.0         4.0          1.0      0.0          0.0      20.0     0.0          20.0    0.0     2.0     6.0            8.0\n",
      "Forest               0.0    0.0   205.0      0.0         2.0          0.0      0.0          0.0       9.0     0.0          10.0    1.0     1.0     0.0            0.0\n",
      "Highway              0.0   32.0     0.0     65.0        10.0          5.0      1.0          1.0       9.0     0.0           7.0    3.0     8.0     8.0           11.0\n",
      "Industrial           4.0    5.0     0.0      3.0       103.0         14.0      2.0          9.0      11.0     3.0           5.0   19.0    10.0     7.0           16.0\n",
      "Inside city          2.0    1.0     0.0      3.0        17.0        135.0      1.0          6.0       0.0     0.0           2.0   11.0     9.0     2.0           19.0\n",
      "Kitchen              8.0    1.0     0.0      0.0        17.0         24.0     18.0         24.0       0.0     7.0           0.0    4.0     1.0     3.0            3.0\n",
      "Living room          3.0    1.0     0.0      0.0        19.0         11.0      4.0        107.0       1.0     8.0           1.0   15.0     6.0     8.0            5.0\n",
      "Mountain             0.0   24.0    19.0      0.0         1.0          0.0      0.0          2.0     200.0     0.0          20.0    1.0     3.0     3.0            1.0\n",
      "Office               5.0    0.0     0.0      0.0        13.0         16.0      6.0         28.0       0.0    38.0           0.0    3.0     2.0     4.0            0.0\n",
      "Open country         0.0   68.0    27.0      3.0         1.0          0.0      0.0          0.0      42.0     0.0         158.0    1.0     1.0     7.0            2.0\n",
      "Store                1.0    1.0     8.0      0.0        22.0          5.0      0.0         16.0       0.0     0.0           1.0  141.0    11.0     2.0            7.0\n",
      "Street               1.0    2.0     0.0      2.0        26.0          9.0      0.0          4.0       9.0     0.0           7.0    5.0   107.0     2.0           18.0\n",
      "Suburb               0.0    0.0     3.0      2.0         4.0          0.0      0.0          3.0       5.0     1.0           5.0    4.0     1.0   111.0            2.0\n",
      "Tall building        1.0    5.0     1.0      7.0        20.0         17.0      0.0          5.0       4.0     1.0           9.0    7.0     6.0     6.0          167.0\n",
      "\n",
      "Accuracy:  0.5899497487437186\n"
     ]
    }
   ],
   "source": [
    "predict(training_set, \"Training\")"
   ]
  },
  {
   "cell_type": "markdown",
   "metadata": {},
   "source": [
    "### Perform inference on the validation set"
   ]
  },
  {
   "cell_type": "code",
   "execution_count": 7,
   "metadata": {},
   "outputs": [
    {
     "name": "stdout",
     "output_type": "stream",
     "text": [
      "\n",
      "\n",
      "CLASSIFICATION RESULTS (VALIDATION)\n",
      "\n",
      "Confusion matrix\n",
      "\n",
      "KNOWN/PREDICTED  Bedroom  Coast  Forest  Highway  Industrial  Inside city  Kitchen  Living room  Mountain  Office  Open country  Store  Street  Suburb  Tall building\n",
      "Bedroom             18.0    5.0     2.0      2.0        10.0          6.0      1.0         25.0       2.0     8.0           4.0    5.0     4.0     1.0            7.0\n",
      "Coast                0.0   66.0     1.0      5.0         1.0          1.0      0.0          0.0      13.0     0.0           8.0    1.0     0.0     2.0            2.0\n",
      "Forest               0.0    0.0    86.0      0.0         0.0          0.0      0.0          0.0       4.0     0.0           7.0    1.0     1.0     1.0            0.0\n",
      "Highway              1.0   27.0     0.0     36.0         7.0          3.0      0.0          0.0       8.0     0.0           3.0    1.0     4.0     5.0            5.0\n",
      "Industrial           4.0    2.0     0.0      3.0        34.0         17.0      1.0          4.0       9.0     0.0           1.0   11.0     8.0     0.0            6.0\n",
      "Inside city          0.0    0.0     0.0      1.0         4.0         60.0      0.0          8.0       0.0     2.0           2.0    7.0     6.0     0.0           10.0\n",
      "Kitchen              6.0    1.0     0.0      0.0         8.0         19.0     11.0         33.0       0.0     9.0           0.0    7.0     1.0     1.0            4.0\n",
      "Living room          6.0    1.0     1.0      0.0        15.0          4.0      1.0         51.0       1.0     7.0           1.0    7.0     2.0     0.0            3.0\n",
      "Mountain             0.0    9.0     6.0      0.0         0.0          0.0      0.0          0.0      70.0     0.0           8.0    1.0     3.0     3.0            0.0\n",
      "Office               6.0    0.0     0.0      0.0         9.0         18.0      4.0         28.0       0.0    24.0           0.0    4.0     2.0     3.0            2.0\n",
      "Open country         0.0   28.0     7.0      1.0         2.0          0.0      0.0          0.0      18.0     0.0          40.0    0.0     4.0     0.0            0.0\n",
      "Store                0.0    0.0     3.0      0.0         9.0          8.0      2.0          3.0       1.0     0.0           0.0   57.0    12.0     3.0            2.0\n",
      "Street               0.0    3.0     1.0      0.0        24.0          8.0      0.0          3.0       3.0     0.0           1.0    5.0    39.0     0.0           13.0\n",
      "Suburb               0.0    0.0     7.0      0.0         4.0          1.0      0.0          5.0       4.0     0.0           3.0    3.0     0.0    71.0            2.0\n",
      "Tall building        1.0    6.0     1.0      6.0         4.0          7.0      0.0          0.0       4.0     2.0           3.0    1.0     0.0     2.0           63.0\n",
      "\n",
      "Accuracy:  0.484\n"
     ]
    }
   ],
   "source": [
    "predict(validation_set, \"Validation\")"
   ]
  },
  {
   "cell_type": "code",
   "execution_count": 9,
   "metadata": {},
   "outputs": [],
   "source": [
    "import pickle\n",
    "voc = pickle.load(open(\"vocabulary.pickle\", \"rb\"))"
   ]
  }
 ],
 "metadata": {
  "file_extension": ".py",
  "kernelspec": {
   "display_name": "Python 3 (ipykernel)",
   "language": "python",
   "name": "python3"
  },
  "language_info": {
   "codemirror_mode": {
    "name": "ipython",
    "version": 3
   },
   "file_extension": ".py",
   "mimetype": "text/x-python",
   "name": "python",
   "nbconvert_exporter": "python",
   "pygments_lexer": "ipython3",
   "version": "3.10.9"
  },
  "mimetype": "text/x-python",
  "name": "python",
  "npconvert_exporter": "python",
  "pygments_lexer": "ipython3",
  "version": 3
 },
 "nbformat": 4,
 "nbformat_minor": 2
}
